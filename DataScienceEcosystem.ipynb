{
 "cells": [
  {
   "cell_type": "markdown",
   "metadata": {},
   "source": [
    "<center>\n",
    "    <img src=\"https://cf-courses-data.s3.us.cloud-object-storage.appdomain.cloud/IBMDeveloperSkillsNetwork-DS0105EN-SkillsNetwork/labs/Module2/images/SN_web_lightmode.png\" width=\"300\" alt=\"cognitiveclass.ai logo\">\n",
    "</center>\n"
   ]
  },
{
 "cells": [
  {
   "cell_type": "markdown",
   "id": "5a056f2a-daaa-40f5-ad1a-d5d4ef50a53f",
   "metadata": {},
   "source": [
    "# Data Science Tools and Ecosystem"
   ]
  },
  {
   "cell_type": "markdown",
   "id": "e36a23cd-82d7-4818-96bc-0bcd7eaca465",
   "metadata": {},
   "source": [
    "*In this notebook, Data Science Tools and Ecosystem are summarized.*"
   ]
  },
  {
   "cell_type": "markdown",
   "id": "2002ab9f-fb64-42c9-8542-fafac5862f6d",
   "metadata": {},
   "source": [
    "Some of the popular languages that Data Scientists use are:"
   ]
  },
  {
   "cell_type": "markdown",
   "id": "2df7de86-9c69-4166-b02b-c9bbf23a5d24",
   "metadata": {},
   "source": [
    "1. Python\n",
    "2. R\n",
    "3. SQL\n",
    "4. Java\n",
    "5. Scala\n",
    "6. Julia\n",
    "and more..."
   ]
  },
  {
   "cell_type": "markdown",
   "id": "47ddbc72-1e1b-4b72-b3ea-90ebae340ddf",
   "metadata": {},
   "source": [
    "Some of the commonly used libraries used by Data Scientists include:\n",
    "- Python Libraries:\n",
    "  - Pandas\n",
    "  - NumPy\n",
    "  - Scikit\n",
    "- R Libraries\n",
    "  - dplyr\n",
    "  - ggplot2\n",
    "  - caret\n"
   ]
  },
  {
   "cell_type": "markdown",
   "id": "6d3d9e2c-af0f-4fec-97aa-0a845fd410b6",
   "metadata": {},
   "source": [
    "| Data Science Tools |\n",
    "|-------------------|\n",
    "| Jupyter Notebook |\n",
    "| RStudio |\n",
    "| Apache Zeppelin |"
   ]
  },
  {
   "cell_type": "markdown",
   "id": "4ba6100e-7f8d-4774-b5ed-f676d0754707",
   "metadata": {},
   "source": [
    "### Below are a few examples of evaluating arithmetic expressions in Python\n"
   ]
  },
  {
   "cell_type": "code",
   "execution_count": 2,
   "id": "0e251781-01e2-44a4-b01d-1dd843436233",
   "metadata": {
    "tags": []
   },
   "outputs": [
    {
     "name": "stdout",
     "output_type": "stream",
     "text": [
      "17\n"
     ]
    }
   ],
   "source": [
    "# This a simple arithmetic expression to multiply then add integers.\n",
    "result = (3 * 4) + 5\n",
    "print(result)\n"
   ]
  },
  {
   "cell_type": "code",
   "execution_count": 3,
   "id": "3f96aa01-b1ad-432c-b356-62086ecd99b8",
   "metadata": {
    "tags": []
   },
   "outputs": [
    {
     "name": "stdout",
     "output_type": "stream",
     "text": [
      "3.3333333333333335\n"
     ]
    }
   ],
   "source": [
    "# This will convert 200 minutes to hours by dividing by 60.\n",
    "hours = 200 / 60\n",
    "print(hours)\n"
   ]
  },
  {
   "cell_type": "markdown",
   "id": "29851695-f8d0-41e0-bae0-c5db649b2db5",
   "metadata": {},
   "source": [
    "**Objectives:**\n",
    "\n",
    "- Different types and categories of tools that data scientists use. \n",
    "- Different types of programming languages data scientists use. \n",
    "- Define the various libraries: scientific, visualization, machine learning, and deep learning.\n",
    "- Learning how to use the basics of Jupyter Notebooks\n",
    "\n",
    "\n"
   ]
  },
  {
   "cell_type": "markdown",
   "id": "dbaae856-da60-4b38-916f-6e025c9ebf81",
   "metadata": {},
   "source": [
    "## Author\n",
    "Alexandria Mesa\n",
    "\n"
   ]
  },
  {
   "cell_type": "code",
   "execution_count": null,
   "id": "a52ebeb6-40ae-4fce-b876-e2bd376b7fce",
   "metadata": {},
   "outputs": [],
   "source": []
  }
 ],
 "metadata": {
  "kernelspec": {
   "display_name": "Python",
   "language": "python",
   "name": "conda-env-python-py"
  },
  "language_info": {
   "codemirror_mode": {
    "name": "ipython",
    "version": 3
   },
   "file_extension": ".py",
   "mimetype": "text/x-python",
   "name": "python",
   "nbconvert_exporter": "python",
   "pygments_lexer": "ipython3",
   "version": "3.7.12"
  }
 },
 "nbformat": 4,
 "nbformat_minor": 5
}
